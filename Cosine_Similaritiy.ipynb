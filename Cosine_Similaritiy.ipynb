{
  "nbformat": 4,
  "nbformat_minor": 0,
  "metadata": {
    "colab": {
      "private_outputs": true,
      "provenance": [],
      "cell_execution_strategy": "setup",
      "authorship_tag": "ABX9TyMI79mOnEVMJ5uPSTBImNuP",
      "include_colab_link": true
    },
    "kernelspec": {
      "name": "python3",
      "display_name": "Python 3"
    },
    "language_info": {
      "name": "python"
    }
  },
  "cells": [
    {
      "cell_type": "markdown",
      "metadata": {
        "id": "view-in-github",
        "colab_type": "text"
      },
      "source": [
        "<a href=\"https://colab.research.google.com/github/akshaykumarthokala/BDA-2211CS020507/blob/main/Cosine_Similaritiy.ipynb\" target=\"_parent\"><img src=\"https://colab.research.google.com/assets/colab-badge.svg\" alt=\"Open In Colab\"/></a>"
      ]
    },
    {
      "cell_type": "code",
      "source": [
        "import nltk\n",
        "import string\n",
        "import numpy as np\n",
        "from sklearn.feature_extraction.text import TfidfVectorizer\n",
        "from sklearn.metrics.pairwise import cosine_similarity\n",
        "from nltk.corpus import stopwords\n",
        "from nltk.tokenize import word_tokenize\n",
        "from nltk.stem import WordNetLemmatizer\n",
        "nltk.download('punkt')\n",
        "nltk.download('stopwords')\n",
        "nltk.download('wordnet')\n",
        "nltk.download(\"punkt_tab\")"
      ],
      "metadata": {
        "id": "AlexhHO0e7Qz"
      },
      "execution_count": null,
      "outputs": []
    },
    {
      "cell_type": "code",
      "source": [
        "review1=\"The movie was so fentastic ,I loved the acting and plot\"\n",
        "review2=\"The movie was so boring ,I hated the acting and plot\""
      ],
      "metadata": {
        "id": "SmmbpSVtfe0p"
      },
      "execution_count": null,
      "outputs": []
    },
    {
      "cell_type": "code",
      "source": [
        "def preprocess_text(text):\n",
        "  tokens=word_tokenize(text)\n",
        "  tokens=[word.lower() for word in tokens]\n",
        "  stop_words=set(stopwords.words(\"english\"))\n",
        "  tokens=[word for word in tokens if word not in stop_words]\n",
        "  lemmatizer=WordNetLemmatizer()\n",
        "  tokens=[lemmatizer.lemmatize(word) for word in tokens]\n",
        "  return \" \".join(tokens)"
      ],
      "metadata": {
        "id": "7A1pbdwUfeYR"
      },
      "execution_count": null,
      "outputs": []
    },
    {
      "cell_type": "code",
      "source": [
        "a=preprocess_text(review1)\n",
        "b=preprocess_text(review2)"
      ],
      "metadata": {
        "id": "lPTbUZm4foUK"
      },
      "execution_count": null,
      "outputs": []
    },
    {
      "cell_type": "code",
      "source": [
        "vectorizer=TfidfVectorizer()\n",
        "vectors=vectorizer.fit_transform([a,b])\n",
        "vectors.toarray()"
      ],
      "metadata": {
        "id": "wLqYjKScfoc9"
      },
      "execution_count": null,
      "outputs": []
    },
    {
      "cell_type": "code",
      "source": [
        "cosine_sim=cosine_similarity(vectors[0],vectors[1])[0][0]\n",
        "print(round(cosine_sim,3))"
      ],
      "metadata": {
        "id": "1F3Jk83Ofoln"
      },
      "execution_count": null,
      "outputs": []
    },
    {
      "cell_type": "code",
      "source": [
        "import nltk\n",
        "import string\n",
        "import numpy as np\n",
        "from sklearn.feature_extraction.text import TfidfVectorizer\n",
        "from sklearn.metrics.pairwise import cosine_similarity\n",
        "from nltk.corpus import stopwords\n",
        "from nltk.tokenize import word_tokenize\n",
        "from nltk.stem import WordNetLemmatizer"
      ],
      "metadata": {
        "id": "_bho836Jfotu"
      },
      "execution_count": null,
      "outputs": []
    },
    {
      "cell_type": "code",
      "source": [
        "nltk.download('punkt')\n",
        "nltk.download(\"punkt_tab\")\n",
        "nltk.download('stopwords')\n",
        "nltk.download('wordnet')"
      ],
      "metadata": {
        "id": "02mt2yiLf4Wq"
      },
      "execution_count": null,
      "outputs": []
    },
    {
      "cell_type": "code",
      "source": [
        "review1='The movie was so fentasic! the acting and plot by hero was good'\n",
        "review2='movie was so boring ,I hated the acting and plot'"
      ],
      "metadata": {
        "id": "CPsiXzyhf4eB"
      },
      "execution_count": null,
      "outputs": []
    },
    {
      "cell_type": "code",
      "source": [
        "def preprocess_text(text):\n",
        "  tokens=word_tokenize(text)\n",
        "  tokens=[word.lower() for word in tokens]\n",
        "  stop_words=set(stopwords.words(\"english\"))\n",
        "  tokens=[word for word in tokens if word not in stop_words]\n",
        "  lemmatizer=WordNetLemmatizer()\n",
        "  tokens=[lemmatizer.lemmatize(word) for word in tokens]\n",
        "  return \" \".join(tokens)"
      ],
      "metadata": {
        "id": "ve_RaETef-My"
      },
      "execution_count": null,
      "outputs": []
    },
    {
      "cell_type": "code",
      "source": [
        "a=preprocess_text(review1)\n",
        "print(a)\n",
        "b=preprocess_text(review2)\n",
        "print(b)"
      ],
      "metadata": {
        "id": "L54cKQ1mf-hR"
      },
      "execution_count": null,
      "outputs": []
    },
    {
      "cell_type": "code",
      "source": [
        "vectorizer=TfidfVectorizer()\n",
        "vectors=vectorizer.fit_transform([a,b])\n",
        "vectors.toarray()"
      ],
      "metadata": {
        "id": "zo-RjxDef-sY"
      },
      "execution_count": null,
      "outputs": []
    },
    {
      "cell_type": "code",
      "source": [
        "cosine_sim=cosine_similarity(vectors[0],vectors[1])[0][0]\n",
        "print(round(cosine_sim,3))"
      ],
      "metadata": {
        "id": "vWhpyYLjgKGO"
      },
      "execution_count": null,
      "outputs": []
    },
    {
      "cell_type": "code",
      "source": [
        "import nltk\n",
        "import string\n",
        "import numpy as np\n",
        "from sklearn.feature_extraction.text import TfidfVectorizer\n",
        "from sklearn.metrics.pairwise import cosine_similarity\n",
        "from nltk.corpus import stopwords\n",
        "from nltk.tokenize import word_tokenize\n",
        "from nltk.stem import WordNetLemmatizer"
      ],
      "metadata": {
        "id": "8o6-iHbkgPWp"
      },
      "execution_count": null,
      "outputs": []
    },
    {
      "cell_type": "code",
      "source": [
        "nltk.download('punkt')\n",
        "nltk.download(\"punkt_tab\")\n",
        "nltk.download('stopwords')\n",
        "nltk.download('wordnet')"
      ],
      "metadata": {
        "id": "khi5C_LwgSZA"
      },
      "execution_count": null,
      "outputs": []
    },
    {
      "cell_type": "code",
      "source": [
        "review1='The movie was so fentasic! the acting and plot by hero was good'\n",
        "review2='movie was so boring ,I hated the acting and plot'"
      ],
      "metadata": {
        "id": "fU5Y94EkgUPp"
      },
      "execution_count": null,
      "outputs": []
    },
    {
      "cell_type": "code",
      "source": [
        "def preprocess_text(text):\n",
        "  tokenize=word_tokenize(text)\n",
        "  tokenize=[word.lower() for word in tokenize]\n",
        "  stop_words=set(stopwords.words(\"english\"))\n",
        "  tokenize=[word for word in tokenize if word not in stop_words]\n",
        "  lemmatizer=WordNetLemmatizer()\n",
        "  tokenize=[lemmatizer.lemmatize(word) for word in tokenize]\n",
        "  return \" \".join(tokenize)"
      ],
      "metadata": {
        "id": "hx47Ju6OgmLL"
      },
      "execution_count": null,
      "outputs": []
    },
    {
      "cell_type": "code",
      "source": [
        "a=preprocess_text(review1)\n",
        "b=preprocess_text(review2)\n",
        "print(a)\n",
        "print(b)"
      ],
      "metadata": {
        "id": "ZdsPhpX5gmSx"
      },
      "execution_count": null,
      "outputs": []
    },
    {
      "cell_type": "code",
      "source": [
        "vectorizer=TfidfVectorizer()\n",
        "vectors=vectorizer.fit_transform([a,b])\n",
        "print(vectors.toarray())"
      ],
      "metadata": {
        "id": "apyCr4vwgmar"
      },
      "execution_count": null,
      "outputs": []
    },
    {
      "cell_type": "code",
      "source": [
        "cosin_sim=cosine_similarity(vectors[0],vectors[1])[0][0]\n",
        "print(round(cosin_sim,3))"
      ],
      "metadata": {
        "id": "sLwxZVVogwiv"
      },
      "execution_count": null,
      "outputs": []
    },
    {
      "cell_type": "code",
      "source": [
        "from google.colab import drive\n",
        "drive.mount('/content/drive')"
      ],
      "metadata": {
        "id": "6yO_FpghgyXX"
      },
      "execution_count": null,
      "outputs": []
    },
    {
      "cell_type": "code",
      "source": [
        "import pandas as pd\n",
        "df=pd.read_csv(\"/content/drive/MyDrive/train.csv\")\n",
        "df.head()"
      ],
      "metadata": {
        "id": "xeoDXVhDhF95"
      },
      "execution_count": null,
      "outputs": []
    },
    {
      "cell_type": "code",
      "source": [
        "df.shape"
      ],
      "metadata": {
        "id": "QEJx9Tsqil9p"
      },
      "execution_count": null,
      "outputs": []
    },
    {
      "cell_type": "code",
      "source": [
        "df['text1_clean']=df['text'].astype(str).apply(preprocess_text)\n",
        "df['text2_clean']=df['selected_text'].astype(str).apply(preprocess_text)"
      ],
      "metadata": {
        "id": "VlSnSBmKj6s5"
      },
      "execution_count": null,
      "outputs": []
    },
    {
      "cell_type": "code",
      "source": [
        "df.head()"
      ],
      "metadata": {
        "id": "MMhryXGbk506"
      },
      "execution_count": null,
      "outputs": []
    },
    {
      "cell_type": "code",
      "source": [
        "vectorize=TfidfVectorizer()\n",
        "vector=vectorize.fit_transform(df['text1_clean'])\n",
        "tfidf_matrix2=vectorizer.transform(df['text2_clean'])"
      ],
      "metadata": {
        "id": "Rj65EOzelCLQ"
      },
      "execution_count": null,
      "outputs": []
    },
    {
      "cell_type": "code",
      "source": [],
      "metadata": {
        "id": "yaYOJtDllymf"
      },
      "execution_count": null,
      "outputs": []
    },
    {
      "cell_type": "code",
      "source": [],
      "metadata": {
        "id": "pd7iK42XlnnJ"
      },
      "execution_count": null,
      "outputs": []
    }
  ]
}